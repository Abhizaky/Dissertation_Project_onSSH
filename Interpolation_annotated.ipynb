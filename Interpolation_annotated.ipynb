{
 "cells": [
  {
   "cell_type": "markdown",
   "id": "80b242e0",
   "metadata": {},
   "source": [
    "**Import:** We import modules needed for this analysis, such as xarray.\n",
    "**Import:** We import modules needed for this analysis, such as numpy.\n",
    "**Import:** We import modules needed for this analysis, such as matplotlib.pyplot.\n",
    "Instantiate the Gaussian Process model with specified kernel for interpolation.\n",
    "Compute the mean squared error to quantify interpolation accuracy."
   ]
  },
  {
   "cell_type": "code",
   "execution_count": null,
   "id": "e1eebbb5",
   "metadata": {},
   "outputs": [],
   "source": [
    "import xarray as xr\n",
    "import numpy as np\n",
    "import matplotlib.pyplot as plt\n",
    "from sklearn.gaussian_process import GaussianProcessRegressor\n",
    "from sklearn.gaussian_process.kernels import RBF, WhiteKernel\n",
    "from sklearn.metrics import mean_squared_error"
   ]
  },
  {
   "cell_type": "markdown",
   "id": "4b27e9fc",
   "metadata": {},
   "source": [
    "We load the NetCDF dataset containing SSH data using xarray."
   ]
  },
  {
   "cell_type": "code",
   "execution_count": null,
   "id": "a7c0beb6",
   "metadata": {},
   "outputs": [],
   "source": [
    "path = 'C:/Users/ABHISHEK/OneDrive/Documents/SSH Data/ostst-single-layer-fd-lat-40-urms-5-kf-13-kr-4-beta.nc'\n",
    "\n",
    "ds = xr.open_dataset(path)"
   ]
  },
  {
   "cell_type": "code",
   "execution_count": null,
   "id": "97c27584",
   "metadata": {},
   "outputs": [],
   "source": [
    "ds"
   ]
  },
  {
   "cell_type": "code",
   "execution_count": null,
   "id": "df78f593",
   "metadata": {},
   "outputs": [],
   "source": [
    "ssh = ds[\"ssh\"]  \n",
    "\n",
    "%matplotlib inline"
   ]
  },
  {
   "cell_type": "markdown",
   "id": "f194d9b9",
   "metadata": {},
   "source": [
    "We select a specific subset from the DataArray: e.g., a fixed location or time slice.\n",
    "Convert the time coordinate to a pandas DatetimeIndex for easier datetime arithmetic.\n",
    "Compute elapsed time in desired units (e.g., days) using numpy timedelta.\n",
    "Reshape arrays to the format expected by scikit-learn (2D feature arrays)."
   ]
  },
  {
   "cell_type": "code",
   "execution_count": null,
   "id": "e722fe8b",
   "metadata": {},
   "outputs": [],
   "source": [
    "ts = ssh.isel(x=0, y=0)         \n",
    "times = ts[\"t\"].to_index()              \n",
    "days = (times - times[0]) / np.timedelta64(1, \"D\")\n",
    "X_time = days.values.reshape(-1, 1)   \n",
    "y_time = ts.values\n",
    "\n",
    "#times = times / (86000 * 1e9) #scaling times\n",
    "#times"
   ]
  },
  {
   "cell_type": "code",
   "execution_count": null,
   "id": "41bd9356",
   "metadata": {},
   "outputs": [],
   "source": [
    "print(\" times dtype:\", times.dtype)\n",
    "print(\" first five times:\", times[:5])\n",
    "print(\" days array (first five):\", days[:5])\n",
    "print(\" X_time shape & min/max:\", X_time.shape, X_time.min(), X_time.max())"
   ]
  },
  {
   "cell_type": "code",
   "execution_count": null,
   "id": "b92a5d7e",
   "metadata": {},
   "outputs": [],
   "source": [
    "n = len(X_time)\n",
    "m = int(n * 0.4)\n",
    "idx = np.random.choice(n, size=m, replace=False)\n",
    "mask = np.zeros(n, bool); mask[idx] = True"
   ]
  },
  {
   "cell_type": "code",
   "execution_count": null,
   "id": "8a4e995c",
   "metadata": {},
   "outputs": [],
   "source": [
    "X_train = X_time[mask];    y_train = y_time[mask]\n",
    "X_test  = X_time[~mask];   y_test  = y_time[~mask]"
   ]
  },
  {
   "cell_type": "code",
   "execution_count": null,
   "id": "eb56f5dd",
   "metadata": {},
   "outputs": [],
   "source": [
    "print(\" n, m:\", n, m)\n",
    "print(\" # train points:\", mask.sum())\n",
    "print(\" # test points:\", (~mask).sum())"
   ]
  },
  {
   "cell_type": "code",
   "execution_count": null,
   "id": "8940961b",
   "metadata": {},
   "outputs": [],
   "source": [
    "ssh.values"
   ]
  },
  {
   "cell_type": "code",
   "execution_count": null,
   "id": "cb814e93",
   "metadata": {},
   "outputs": [],
   "source": [
    "times"
   ]
  },
  {
   "cell_type": "markdown",
   "id": "f1dff926",
   "metadata": {},
   "source": [
    "Instantiate the Gaussian Process model with specified kernel for interpolation.\n",
    "Fit the Gaussian Process to the training data."
   ]
  },
  {
   "cell_type": "code",
   "execution_count": null,
   "id": "6ba69b3e",
   "metadata": {},
   "outputs": [],
   "source": [
    "kernel = 1.0 * RBF(length_scale=1.0) + WhiteKernel(noise_level=0.01)\n",
    "gp_time = GaussianProcessRegressor(kernel=kernel, n_restarts_optimizer=5)\n",
    "gp_time.fit(X_train, y_train)\n"
   ]
  },
  {
   "cell_type": "code",
   "execution_count": null,
   "id": "516149cd",
   "metadata": {},
   "outputs": [],
   "source": [
    "print(\" Learned kernel:\", gp_time.kernel_)\n",
    "print(\" Noise level :\", gp_time.kernel_.k2.noise_level)"
   ]
  },
  {
   "cell_type": "markdown",
   "id": "11500a93",
   "metadata": {},
   "source": [
    "Perform predictions at the test points using the fitted GP.\n",
    "Compute the mean squared error to quantify interpolation accuracy."
   ]
  },
  {
   "cell_type": "code",
   "execution_count": null,
   "id": "7d25dec6",
   "metadata": {},
   "outputs": [],
   "source": [
    "y_pred, y_std = gp_time.predict(X_test, return_std=True)\n",
    "mse = mean_squared_error(y_test, y_pred)\n",
    "print(f\"Time-series interpolation MSE: {mse:.4f}\")"
   ]
  },
  {
   "cell_type": "markdown",
   "id": "770625b8",
   "metadata": {},
   "source": [
    "Use matplotlib to visualize the results.\n",
    "Use matplotlib to visualize the results.\n",
    "Use matplotlib to visualize the results.\n",
    "Use matplotlib to visualize the results.\n",
    "Use matplotlib to visualize the results.\n",
    "Use matplotlib to visualize the results.\n",
    "Use matplotlib to visualize the results.\n",
    "Use matplotlib to visualize the results.\n",
    "Use matplotlib to visualize the results."
   ]
  },
  {
   "cell_type": "code",
   "execution_count": null,
   "id": "222a6e4e",
   "metadata": {},
   "outputs": [],
   "source": [
    "plt.scatter(y_test, y_pred, s=25, alpha=0.7)\n",
    "lims = [min(y_test.min(), y_pred.min()), max(y_test.max(), y_pred.max())]\n",
    "plt.plot(lims, lims, \"--\", color=\"gray\")\n",
    "plt.xlabel(\"True SSH\"); plt.ylabel(\"Predicted SSH\")\n",
    "plt.title(\"True vs. Predicted (Test Set)\")\n",
    "plt.show()\n",
    "\n",
    "# Time series overlay\n",
    "plt.plot(times, y_time, \"k.\", label=\"true\")\n",
    "plt.plot(X_test.flatten(), y_pred, \"rx\", label=\"interp\")\n",
    "plt.legend(); plt.title(\"Interpolation Overlay\")\n",
    "plt.show()"
   ]
  },
  {
   "cell_type": "markdown",
   "id": "ed1e6b3d",
   "metadata": {},
   "source": [
    "Convert the time coordinate to a pandas DatetimeIndex for easier datetime arithmetic.\n",
    "We select a specific subset from the DataArray: e.g., a fixed location or time slice."
   ]
  },
  {
   "cell_type": "code",
   "execution_count": null,
   "id": "e4fd7d56",
   "metadata": {},
   "outputs": [],
   "source": [
    "t0 = ssh[\"t\"].to_index()[0]\n",
    "field = ssh.sel(t=t0) "
   ]
  },
  {
   "cell_type": "code",
   "execution_count": null,
   "id": "1424baa6",
   "metadata": {},
   "outputs": [],
   "source": [
    "#lats = field[\"x\"].values\n",
    "#lons = field[\"y\"].values\n",
    "#XX, YY = np.meshgrid(lons, lats)         # note: lon→x, lat→y\n",
    "#coords  = np.vstack([XX.ravel(), YY.ravel()]).T\n",
    "#values  = field.values.ravel()"
   ]
  },
  {
   "cell_type": "code",
   "execution_count": null,
   "id": "576fd13d",
   "metadata": {},
   "outputs": [],
   "source": [
    "lons = field[\"x\"].values\n",
    "lats = field[\"y\"].values\n",
    "\n",
    "# normalize to [0,1]\n",
    "XXn = (XX - lons.min()) / (lons.max() - lons.min())\n",
    "YYn = (YY - lats.min()) / (lats.max() - lats.min())\n",
    "\n",
    "coords_norm = np.vstack([XXn.ravel(), YYn.ravel()]).T"
   ]
  },
  {
   "cell_type": "code",
   "execution_count": null,
   "id": "dbf0cb2b",
   "metadata": {},
   "outputs": [],
   "source": [
    "n_pts = coords_norm.shape[0]\n",
    "k     = int(n_pts * 0.1)\n",
    "idx   = np.random.choice(n_pts, size=k, replace=False)"
   ]
  },
  {
   "cell_type": "code",
   "execution_count": null,
   "id": "2703e6da",
   "metadata": {},
   "outputs": [],
   "source": [
    "train_coords_norm = coords_norm[idx]\n",
    "train_vals        = values[idx]\n",
    "\n",
    "test_coords_norm  = np.delete(coords_norm, idx, axis=0)\n",
    "test_vals         = np.delete(values,    idx, axis=0)\n",
    "\n",
    "print(f\"Train coords (norm): {train_coords_norm.shape}, Test coords (norm): {test_coords_norm.shape}\")\n"
   ]
  },
  {
   "cell_type": "markdown",
   "id": "5af4437b",
   "metadata": {},
   "source": [
    "Instantiate the Gaussian Process model with specified kernel for interpolation.\n",
    "Fit the Gaussian Process to the training data."
   ]
  },
  {
   "cell_type": "code",
   "execution_count": null,
   "id": "d29b961a",
   "metadata": {},
   "outputs": [],
   "source": [
    "from sklearn.gaussian_process.kernels import ConstantKernel\n",
    "amp = np.var(train_vals)\n",
    "\n",
    "kernel = (ConstantKernel(amp, (1e-3*amp, 1e3*amp))\n",
    "          * RBF(length_scale=0.1, length_scale_bounds=(1e-2, 10)))+ WhiteKernel(noise_level=1e-4, noise_level_bounds=(1e-6, 1))\n",
    "\n",
    "gp = GaussianProcessRegressor(kernel=kernel, n_restarts_optimizer=5)\n",
    "gp.fit(train_coords_norm, train_vals)\n",
    "print(\"Learned kernel:\", gp.kernel_)"
   ]
  },
  {
   "cell_type": "markdown",
   "id": "e13f8359",
   "metadata": {},
   "source": [
    "Perform predictions at the test points using the fitted GP.\n",
    "Compute the mean squared error to quantify interpolation accuracy."
   ]
  },
  {
   "cell_type": "code",
   "execution_count": null,
   "id": "866f57df",
   "metadata": {},
   "outputs": [],
   "source": [
    "pred_vals = batch_predict(gp, test_coords_norm, batch_size=2000)\n",
    "mse       = mean_squared_error(test_vals, pred_vals)\n",
    "print(\"Spatial interpolation MSE:\", mse)"
   ]
  },
  {
   "cell_type": "markdown",
   "id": "867be3cc",
   "metadata": {},
   "source": [
    "Use matplotlib to visualize the results.\n",
    "Use matplotlib to visualize the results.\n",
    "Use matplotlib to visualize the results.\n",
    "Use matplotlib to visualize the results.\n",
    "Use matplotlib to visualize the results.\n",
    "Use matplotlib to visualize the results.\n",
    "Use matplotlib to visualize the results."
   ]
  },
  {
   "cell_type": "code",
   "execution_count": null,
   "id": "68a2d138",
   "metadata": {},
   "outputs": [],
   "source": [
    "plt.figure(figsize=(5,5))\n",
    "plt.scatter(test_vals, pred_vals, s=15, alpha=0.6)\n",
    "lims = [test_vals.min(), test_vals.max()]\n",
    "plt.plot(lims, lims, \"--\", color=\"gray\")\n",
    "plt.xlabel(\"True SSH\")\n",
    "plt.ylabel(\"Predicted SSH\")\n",
    "plt.title(\"True vs. Predicted (Spatial Interpolation)\")\n",
    "plt.show()"
   ]
  },
  {
   "cell_type": "code",
   "execution_count": null,
   "id": "34479c66",
   "metadata": {},
   "outputs": [],
   "source": []
  },
  {
   "cell_type": "code",
   "execution_count": null,
   "id": "10f6d155",
   "metadata": {},
   "outputs": [],
   "source": []
  },
  {
   "cell_type": "code",
   "execution_count": null,
   "id": "85f82424",
   "metadata": {},
   "outputs": [],
   "source": []
  }
 ],
 "metadata": {
  "kernelspec": {
   "display_name": "Python [conda env:base] *",
   "language": "python",
   "name": "conda-base-py"
  },
  "language_info": {
   "codemirror_mode": {
    "name": "ipython",
    "version": 3
   },
   "file_extension": ".py",
   "mimetype": "text/x-python",
   "name": "python",
   "nbconvert_exporter": "python",
   "pygments_lexer": "ipython3",
   "version": "3.12.4"
  }
 },
 "nbformat": 4,
 "nbformat_minor": 5
}
