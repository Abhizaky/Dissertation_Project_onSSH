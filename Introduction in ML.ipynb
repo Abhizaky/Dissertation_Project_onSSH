{
 "cells": [
  {
   "cell_type": "markdown",
   "id": "3be497a5-99b5-45d4-ba94-fcfbcd11bc74",
   "metadata": {},
   "source": [
    "## What is Machine Learning\n",
    "\n",
    "In basic terms, ML is the process of training a piece of software, called a model, to make useful predictions or generate content (like text, images, audio, or video) from data.\n",
    "\n",
    "ML offers a new way to solve problems, answer complex questions, and create new content. ML can predict the weather, estimate travel times, recommend songs, auto-complete sentences, summarize articles, and generate never-seen-before images.\n",
    "\n",
    "For example, suppose we wanted to create an app to predict rainfall. We could use either a traditional approach or an ML approach. Using a traditional approach, we'd create a physics-based representation of the Earth's atmosphere and surface, computing massive amounts of fluid dynamics equations. This is incredibly difficult.\r\n",
    "\r\n",
    "Using an ML approach, we would give an ML model enormous amounts of weather data until the ML model eventually learned the mathematical relationship between weather patterns that produce differing amounts of rain. We would then give the model the current weather data, and it would predict the amount of rai\n",
    "\n",
    "\n",
    "n."
   ]
  },
  {
   "cell_type": "markdown",
   "id": "eb4bf681-0f1d-44af-8557-059f7b3ad1c1",
   "metadata": {},
   "source": [
    "##  ML systems can be categorized as supervised, unsupervised, reinforcement, or generative AI, each learning differently.\n",
    "\n",
    "### Types of ML Systems\r\n",
    "\r\n",
    "Machine Learning (ML) systems fall into one or more of the following categories based on how they learn to make predictions or generate content:\r\n",
    "##\r\n",
    "## 1. Supervised Learning\r\n",
    "- The model is trained on a labeled dataset.\r\n",
    "- It learns to map inputs to known outputs.\r\n",
    "- Example: Predicting house prices based on histdataal da##ta.\r\n",
    "\r\n",
    "## 2. Unsupervised Learning\r\n",
    "- The model works with unlabeled data.\r\n",
    "- It identifies patterns or groupings within the dataset.\r\n",
    "- Example: Customer segmentation using clustering alg##orithms.\r\n",
    "\r\n",
    "## 3. Reinforcement Learning\r\n",
    "- The model learns by interacting with an environment.\r\n",
    "- It receives feedback in the form of rewards or penalties.\r\n",
    "- Example: Training a robot to walk or an AI t##o play chess.\r\n",
    "\r\n",
    "## 4. Generative AI\r\n",
    "- These models learn to generate new data that mimics a given distribution.\r\n",
    "- Often based on deep learning architectures like GANs or transformers.\r\n",
    "- Example: Generating realistic images, music, or text.\n"
   ]
  },
  {
   "cell_type": "markdown",
   "id": "a7e2f36f-deec-4cf9-97c3-8234d12dd2d7",
   "metadata": {},
   "source": [
    "## 1. Supervised Learning\n",
    "Supervised learning models can make predictions after seeing lots of data with the correct answers and then discovering the connections between the elements in the data that produce the correct answers. This is like a student learning new material by studying old exams that contain both questions and answers. Once the student has trained on enough old exams, the student is well prepared to take a new exam. These ML systems are \"supervised\" in the sense that a human gives the ML system data with the known correct results.\r\n",
    "\r\n",
    "Two of the most common use cases for supervised learning are regression and classification."
   ]
  },
  {
   "cell_type": "markdown",
   "id": "e5a4d1f3-64dd-40d5-abe3-b9fd8210fddb",
   "metadata": {},
   "source": [
    "### 1.1 Regression\n",
    "A regression model predicts a numeric value. For example, a weather model that predicts the amount of rain, in inches or millimeters, is a regression model.\n",
    "\n",
    "### Examples of Regression Models\r\n",
    "\r\n",
    "See the table below for more examples of regression models:\r\n",
    "\r\n",
    "| **Scenario**         | **Possible Input Data**                                                                                                                                 | **Numeric Prediction**                                      |\r\n",
    "|----------------------|----------------------------------------------------------------------------------------------------------------------------------------------------------|--------------------------------------------------------------|\r\n",
    "| Future house price   | Square footage, zip code, number of bedrooms and bathrooms, lot size, mortgage interest rate, property tax rate, construction costs, number of homes for sale in the area. | The price of the home.                                       |\r\n",
    "| Future ride time     | Historical traffic conditions (from smartphones, traffic sensors, ride-hailing apps), distance from destination, and weather conditions.                 | The time in minutes and seconds to arrive at a destination.  |"
   ]
  },
  {
   "cell_type": "markdown",
   "id": "826f4db0-1c47-4625-b380-e706f4799d93",
   "metadata": {},
   "source": [
    "### 1.2 Classification\n",
    "\n",
    "Classification models predict the likelihood that something belongs to a category. Unlike regression models, whose output is a number, classification models output a value that states whether or not something belongs to a particular category. For example, classification models are used to predict if an email is spam or if a photo contains a cat.\r\n",
    "### \r\n",
    "Classification models are divided into two groups: binary classification and multiclass classification. Binary classification models output a value from a class that contains only two values, for example, a model that outputs either rain or no rain. Multiclass classification models output a value from a class that contains more than two values, for example, a model that can output either rain, hail, snow, or sleet."
   ]
  },
  {
   "cell_type": "markdown",
   "id": "8ac0d21c-cc88-4dce-ac9b-787e17819243",
   "metadata": {},
   "source": [
    "## 2. Unsupervised Learning\n",
    "\n",
    "Unsupervised learning models make predictions by being given data that does not contain any correct answers. An unsupervised learning model's goal is to identify meaningful patterns among the data. In other words, the model has no hints on how to categorize each piece of data, but instead it must infer its own rules.\r\n",
    "\r\n",
    "A commonly used unsupervised learning model employs a technique called clustering. The model finds data points that demarcate natural grouping\n",
    "\n",
    "### 2.1 Clustering\n",
    "Clustering differs from classification because the categories aren't defined by you. For example, an unsupervised model might cluster a weather dataset based on temperature, revealing segmentations that define the seasons. You might then attempt to name those clusters based on your understanding of the datasets."
   ]
  },
  {
   "cell_type": "markdown",
   "id": "47fd9406-e316-40a2-99d1-c01bba6d7e44",
   "metadata": {},
   "source": [
    "## 3. Reinforcement learning\n",
    "Reinforcement learning models make predictions by getting rewards or penalties based on actions performed within an environment. A reinforcement learning system generates a policy that defines the best strategy for getting the most rewards.\r\n",
    "\r\n",
    "Reinforcement learning is used to train robots to perform tasks, like walking around a room, and software programs like AlphaGo to play the game of Go."
   ]
  },
  {
   "cell_type": "markdown",
   "id": "b8ebe0be-a6f8-49c1-8f07-e474644329f1",
   "metadata": {},
   "source": [
    "## 4. Generative AI\n",
    "Generative AI is a class of models that creates content from user input. For example, generative AI can create unique images, music compositions, and jokes; it can summarize articles, explain how to perform a task, or edit a photo.\r\n",
    "\r\n",
    "Generative AI can take a variety of inputs and create a variety of outputs, like text, images, audio, and video. It can also take and create combinations of these. For example, a model can take an image as input and create an image and text as output, or take an image and text as input and create a video as outpu\n",
    "\n",
    "### Examples of Input-Output Types for Generative Models\r\n",
    "\r\n",
    "For example, the following is a partial list of some inputs and outputs for generative models:\r\n",
    "\r\n",
    "- **Text-to-Text**  \r\n",
    "  Generate or transform text, e.g., summarization, translation, or question answering.\r\n",
    "\r\n",
    "- **Text-to-Image**  \r\n",
    "  Generate images based on textual descriptions.\r\n",
    "\r\n",
    "- **Text-to-Video**  \r\n",
    "  Create video content from a textual prompt or script.\r\n",
    "\r\n",
    "- **Text-to-Code**  \r\n",
    "  Generate source code from natural language instructions.\r\n",
    "\r\n",
    "- **Text-to-Speech**  \r\n",
    "  Convert written text into human-like spoken audio.\r\n",
    "\r\n",
    "- **Image and Text-to-Image**  \r\n",
    "  Generate modified or new images based on both an image input and a descriptive prompt.o-imaget."
   ]
  },
  {
   "cell_type": "markdown",
   "id": "68448949-f5b2-4503-b790-2c17b66325f3",
   "metadata": {},
   "source": [
    "## How does Generative AI works?\n",
    "\n",
    "### Understanding Generative Models\r\n",
    "\r\n",
    "At a high level, **generative models** learn patterns in data with the goal of producing new but similar data. You can think of generative models like:\r\n",
    "- 🎭 **Comedians** who learn to imitate others by observing people's behaviors and styles of speaking\n",
    "- 🎨 **Artists** who learn to paint in a particular style by studying lots of paintings in that styl\r\n",
    "- 🎸 **Cover bands** that learn to sound like a specific music group by listening to lots of music by that group.\r\n",
    "\r\n",
    "---\r\n",
    "\r\n",
    "To produce **unique and creative outputs**, generative models are typically trained using:\r\n",
    "\r\n",
    "- **Unsupervised learning**: where the model learns to mimic the structure and distribution of its training data.\r\n",
    "- **Supervised or reinforcement learning (fine-tuning)**: applied later to help the model perform specific tasks such as summarizing an article or editing a photo.\r\n",
    "\r\n",
    "---images."
   ]
  }
 ],
 "metadata": {
  "kernelspec": {
   "display_name": "Python [conda env:base] *",
   "language": "python",
   "name": "conda-base-py"
  },
  "language_info": {
   "codemirror_mode": {
    "name": "ipython",
    "version": 3
   },
   "file_extension": ".py",
   "mimetype": "text/x-python",
   "name": "python",
   "nbconvert_exporter": "python",
   "pygments_lexer": "ipython3",
   "version": "3.12.4"
  }
 },
 "nbformat": 4,
 "nbformat_minor": 5
}
